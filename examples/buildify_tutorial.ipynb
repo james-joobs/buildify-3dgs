{
 "cells": [
  {
   "cell_type": "markdown",
   "metadata": {},
   "source": [
    "# 🚀 Buildify 3DGS Tutorial\n",
    "\n",
    "C++23 기반의 3D Gaussian Splatting 라이브러리를 Python에서 사용하는 방법을 배워보세요!\n",
    "\n",
    "## 📚 목차\n",
    "1. [기본 설정](#setup)\n",
    "2. [수학 유틸리티](#math)\n",
    "3. [엔진 및 씬 관리](#engine)\n",
    "4. [카메라 시스템](#camera)\n",
    "5. [엔티티 관리](#entities)\n",
    "6. [렌더링 시스템](#rendering)"
   ]
  },
  {
   "cell_type": "markdown",
   "metadata": {},
   "source": [
    "## 1. 기본 설정 {#setup}\n",
    "\n",
    "먼저 Buildify를 import하고 기본 설정을 해보겠습니다."
   ]
  },
  {
   "cell_type": "code",
   "execution_count": null,
   "metadata": {},
   "outputs": [],
   "source": [
    "import buildify\n",
    "import numpy as np\n",
    "import matplotlib.pyplot as plt\n",
    "\n",
    "# 로그 레벨 설정\n",
    "buildify.utils.set_log_level(buildify.utils.LogLevel.Info)\n",
    "\n",
    "print(f\"📦 Buildify 버전: {buildify.__version__}\")\n",
    "print(f\"🔧 사용 가능한 모듈: {[attr for attr in dir(buildify) if not attr.startswith('_')]}\")"
   ]
  },
  {
   "cell_type": "markdown",
   "metadata": {},
   "source": [
    "## 2. 수학 유틸리티 {#math}\n",
    "\n",
    "C++23의 concepts을 사용한 현대적인 수학 라이브러리를 체험해보세요."
   ]
  },
  {
   "cell_type": "code",
   "execution_count": null,
   "metadata": {},
   "outputs": [],
   "source": [
    "# Vector3 생성 및 연산\n",
    "v1 = buildify.utils.Vector3(1.0, 2.0, 3.0)\n",
    "v2 = buildify.utils.Vector3(4.0, 5.0, 6.0)\n",
    "\n",
    "print(f\"벡터 1: {v1}\")\n",
    "print(f\"벡터 2: {v2}\")\n",
    "print(f\"덧셈: {v1 + v2}\")\n",
    "print(f\"스칼라 곱: {v1 * 2.0}\")\n",
    "print(f\"내적: {v1.dot(v2)}\")\n",
    "print(f\"외적: {v1.cross(v2)}\")\n",
    "print(f\"길이: {v1.length():.3f}\")\n",
    "print(f\"정규화: {v1.normalized()}\")"
   ]
  },
  {
   "cell_type": "code",
   "execution_count": null,
   "metadata": {},
   "outputs": [],
   "source": [
    "# 쿼터니언 회전\n",
    "import math\n",
    "\n",
    "# Y축 중심으로 45도 회전\n",
    "axis = buildify.utils.Vector3(0, 1, 0)\n",
    "angle = math.pi / 4  # 45도\n",
    "rotation = buildify.utils.Quaternion.from_axis_angle(axis, angle)\n",
    "\n",
    "print(f\"회전 쿼터니언: ({rotation.x:.3f}, {rotation.y:.3f}, {rotation.z:.3f}, {rotation.w:.3f})\")\n",
    "\n",
    "# 회전 행렬로 변환\n",
    "rotation_matrix = rotation.to_matrix()\n",
    "print(\"회전 행렬 생성 완료\")"
   ]
  },
  {
   "cell_type": "code",
   "execution_count": null,
   "metadata": {},
   "outputs": [],
   "source": [
    "# Transform 시스템\n",
    "transform = buildify.utils.Transform()\n",
    "transform.position = buildify.utils.Vector3(5, 10, 15)\n",
    "transform.rotation = rotation\n",
    "transform.scale = buildify.utils.Vector3(2, 2, 2)\n",
    "\n",
    "# 최종 변환 행렬 계산\n",
    "final_matrix = transform.to_matrix()\n",
    "print(\"변환 행렬 (위치 + 회전 + 스케일) 생성 완료\")\n",
    "print(f\"위치: {transform.position}\")\n",
    "print(f\"스케일: {transform.scale}\")"
   ]
  },
  {
   "cell_type": "markdown",
   "metadata": {},
   "source": [
    "## 3. 엔진 및 씬 관리 {#engine}\n",
    "\n",
    "C++23의 현대적인 메모리 관리와 RAII 패턴을 사용하는 엔진을 체험해보세요."
   ]
  },
  {
   "cell_type": "code",
   "execution_count": null,
   "metadata": {},
   "outputs": [],
   "source": [
    "# 엔진 생성 및 초기화\n",
    "engine = buildify.core.Engine()\n",
    "success = engine.initialize()\n",
    "\n",
    "print(f\"엔진 초기화: {'✅ 성공' if success else '❌ 실패'}\")\n",
    "print(f\"엔진 실행 중: {engine.is_running()}\")"
   ]
  },
  {
   "cell_type": "code",
   "execution_count": null,
   "metadata": {},
   "outputs": [],
   "source": [
    "# 씬 생성\n",
    "scene1 = engine.create_scene(\"MainScene\")\n",
    "scene2 = engine.create_scene(\"TestScene\")\n",
    "\n",
    "print(f\"씬 1: '{scene1.get_name()}'\")\n",
    "print(f\"씬 2: '{scene2.get_name()}'\")\n",
    "\n",
    "# 활성 씬 설정\n",
    "engine.set_active_scene(scene1)\n",
    "print(f\"활성 씬 설정됨: {scene1.get_name()}\")"
   ]
  },
  {
   "cell_type": "markdown",
   "metadata": {},
   "source": [
    "## 4. 카메라 시스템 {#camera}\n",
    "\n",
    "3D 그래픽스의 핵심인 카메라 시스템을 설정해보세요."
   ]
  },
  {
   "cell_type": "code",
   "execution_count": null,
   "metadata": {},
   "outputs": [],
   "source": [
    "# 카메라 생성\n",
    "camera = buildify.core.Camera(\"MainCamera\")\n",
    "\n",
    "# 원근 투영 설정\n",
    "fov = 45.0  # 시야각\n",
    "aspect_ratio = 16.0 / 9.0  # 종횡비\n",
    "near_plane = 0.1  # 가까운 평면\n",
    "far_plane = 1000.0  # 먼 평면\n",
    "\n",
    "camera.set_perspective(fov, aspect_ratio, near_plane, far_plane)\n",
    "print(f\"카메라 투영 설정: FOV={fov}°, 종횡비={aspect_ratio}, 클리핑={near_plane}-{far_plane}\")"
   ]
  },
  {
   "cell_type": "code",
   "execution_count": null,
   "metadata": {},
   "outputs": [],
   "source": [
    "# 카메라 위치 및 방향 설정\n",
    "camera_transform = camera.get_transform()\n",
    "camera_transform.position = buildify.utils.Vector3(0, 5, 10)\n",
    "camera.set_transform(camera_transform)\n",
    "\n",
    "# 원점을 바라보도록 설정\n",
    "target = buildify.utils.Vector3(0, 0, 0)\n",
    "up = buildify.utils.Vector3(0, 1, 0)\n",
    "camera.look_at(target, up)\n",
    "\n",
    "print(f\"카메라 위치: {camera_transform.position}\")\n",
    "print(f\"카메라가 {target}을 바라봄\")"
   ]
  },
  {
   "cell_type": "code",
   "execution_count": null,
   "metadata": {},
   "outputs": [],
   "source": [
    "# 씬에 카메라 추가 및 활성화\n",
    "scene1.add_entity(camera)\n",
    "scene1.set_active_camera(camera)\n",
    "\n",
    "print(\"✅ 카메라가 씬에 추가되고 활성화됨\")\n",
    "\n",
    "# 뷰 및 투영 행렬 가져오기\n",
    "view_matrix = camera.get_view_matrix()\n",
    "projection_matrix = camera.get_projection_matrix()\n",
    "\n",
    "print(\"📐 뷰 행렬과 투영 행렬 계산 완료\")"
   ]
  },
  {
   "cell_type": "markdown",
   "metadata": {},
   "source": [
    "## 5. 엔티티 관리 {#entities}\n",
    "\n",
    "씬 내의 3D 객체들을 관리하는 엔티티 시스템을 체험해보세요."
   ]
  },
  {
   "cell_type": "code",
   "execution_count": null,
   "metadata": {},
   "outputs": [],
   "source": [
    "# 여러 엔티티 생성\n",
    "entities = []\n",
    "\n",
    "for i in range(5):\n",
    "    entity = buildify.core.Entity(f\"Cube_{i}\")\n",
    "    \n",
    "    # 랜덤 위치 설정\n",
    "    import random\n",
    "    x = random.uniform(-10, 10)\n",
    "    y = random.uniform(0, 5)\n",
    "    z = random.uniform(-10, 10)\n",
    "    \n",
    "    transform = entity.get_transform()\n",
    "    transform.position = buildify.utils.Vector3(x, y, z)\n",
    "    transform.scale = buildify.utils.Vector3(1, 1, 1)\n",
    "    entity.set_transform(transform)\n",
    "    \n",
    "    # 씬에 추가\n",
    "    scene1.add_entity(entity)\n",
    "    entities.append(entity)\n",
    "    \n",
    "    print(f\"엔티티 '{entity.get_name()}' 생성: 위치=({x:.1f}, {y:.1f}, {z:.1f})\")\n",
    "\n",
    "print(f\"\\n✅ 총 {len(entities)}개의 엔티티가 생성됨\")"
   ]
  },
  {
   "cell_type": "code",
   "execution_count": null,
   "metadata": {},
   "outputs": [],
   "source": [
    "# 엔티티 검색\n",
    "search_name = \"Cube_2\"\n",
    "found_entity = scene1.find_entity(search_name)\n",
    "\n",
    "if found_entity:\n",
    "    print(f\"✅ 엔티티 '{search_name}' 발견!\")\n",
    "    transform = found_entity.get_transform()\n",
    "    print(f\"   위치: {transform.position}\")\n",
    "    print(f\"   스케일: {transform.scale}\")\n",
    "else:\n",
    "    print(f\"❌ 엔티티 '{search_name}'를 찾을 수 없음\")"
   ]
  },
  {
   "cell_type": "markdown",
   "metadata": {},
   "source": [
    "## 6. 렌더링 시스템 {#rendering}\n",
    "\n",
    "OpenGL 기반의 현대적인 렌더링 시스템을 설정해보세요."
   ]
  },
  {
   "cell_type": "code",
   "execution_count": null,
   "metadata": {},
   "outputs": [],
   "source": [
    "# OpenGL 렌더러 생성\n",
    "renderer = buildify.core.OpenGLRenderer()\n",
    "\n",
    "# 렌더 타겟 설정\n",
    "render_target = buildify.core.RenderTarget()\n",
    "render_target.width = 1920\n",
    "render_target.height = 1080\n",
    "render_target.samples = 4  # 4x MSAA\n",
    "\n",
    "print(f\"🎨 렌더러 생성됨\")\n",
    "print(f\"📺 해상도: {render_target.width}x{render_target.height}\")\n",
    "print(f\"🔍 안티알리어싱: {render_target.samples}x MSAA\")\n",
    "print(\"\\n⚠️  참고: 실제 렌더링은 OpenGL 컨텍스트가 필요합니다\")"
   ]
  },
  {
   "cell_type": "code",
   "execution_count": null,
   "metadata": {},
   "outputs": [],
   "source": [
    "# 엔진에 렌더러 설정\n",
    "# engine.set_renderer(renderer)  # 주석: OpenGL 컨텍스트 필요\n",
    "\n",
    "print(\"🔧 렌더링 파이프라인 설정:\")\n",
    "print(\"   1. 렌더 타겟 생성\")\n",
    "print(\"   2. 프레임버퍼 설정\")\n",
    "print(\"   3. 뷰포트 설정\")\n",
    "print(\"   4. 깊이 테스트 활성화\")\n",
    "print(\"   5. 백페이스 컬링 활성화\")"
   ]
  },
  {
   "cell_type": "markdown",
   "metadata": {},
   "source": [
    "## 7. 시뮬레이션 실행\n",
    "\n",
    "엔진의 업데이트 루프를 실행해보세요."
   ]
  },
  {
   "cell_type": "code",
   "execution_count": null,
   "metadata": {},
   "outputs": [],
   "source": [
    "import time\n",
    "\n",
    "# 업데이트 콜백 함수 정의\n",
    "frame_count = 0\n",
    "start_time = time.time()\n",
    "\n",
    "def update_callback(delta_time):\n",
    "    global frame_count, start_time\n",
    "    frame_count += 1\n",
    "    \n",
    "    if frame_count % 10 == 0:  # 10프레임마다 출력\n",
    "        elapsed = time.time() - start_time\n",
    "        fps = frame_count / elapsed\n",
    "        print(f\"📊 프레임 #{frame_count}: FPS={fps:.1f}, dt={delta_time*1000:.1f}ms\")\n",
    "\n",
    "# 콜백 등록\n",
    "engine.add_update_callback(update_callback)\n",
    "print(\"🔄 업데이트 콜백 등록됨\")"
   ]
  },
  {
   "cell_type": "code",
   "execution_count": null,
   "metadata": {},
   "outputs": [],
   "source": [
    "# 시뮬레이션 실행 (50프레임)\n",
    "print(\"🏃 시뮬레이션 시작...\")\n",
    "\n",
    "for frame in range(50):\n",
    "    dt = 0.016667  # 60 FPS (1/60초)\n",
    "    \n",
    "    # 엔진 업데이트\n",
    "    engine.update(dt)\n",
    "    \n",
    "    # 씬 업데이트\n",
    "    scene1.update(dt)\n",
    "    \n",
    "    # 렌더링 시뮬레이션\n",
    "    # engine.render()  # 주석: OpenGL 컨텍스트 필요\n",
    "    \n",
    "    # 프레임 간격\n",
    "    time.sleep(0.01)  # 실제로는 VSync에 의해 조절됨\n",
    "\n",
    "print(\"✅ 시뮬레이션 완료\")"
   ]
  },
  {
   "cell_type": "markdown",
   "metadata": {},
   "source": [
    "## 8. 정리\n",
    "\n",
    "리소스를 정리하고 엔진을 종료합니다."
   ]
  },
  {
   "cell_type": "code",
   "execution_count": null,
   "metadata": {},
   "outputs": [],
   "source": [
    "# 엔진 종료\n",
    "engine.shutdown()\n",
    "\n",
    "print(\"🏁 엔진 종료됨\")\n",
    "print(f\"📈 총 처리된 프레임: {frame_count}\")\n",
    "print(\"\\n🎉 Buildify C++23 튜토리얼 완료!\")\n",
    "print(\"\\n다음 단계:\")\n",
    "print(\"  • 3D Gaussian Splatting 알고리즘 구현\")\n",
    "print(\"  • Blender 통합 (.blend 파일 로딩)\")\n",
    "print(\"  • PyTorch 텐서 연동\")\n",
    "print(\"  • 실시간 렌더링 데모\")"
   ]
  }
 ],
 "metadata": {
  "kernelspec": {
   "display_name": "Python 3",
   "language": "python",
   "name": "python3"
  },
  "language_info": {
   "codemirror_mode": {
    "name": "ipython",
    "version": 3
   },
   "file_extension": ".py",
   "mimetype": "text/x-python",
   "name": "python",
   "nbconvert_exporter": "python",
   "pygments_lexer": "ipython3",
   "version": "3.11.4"
  }
 },
 "nbformat": 4,
 "nbformat_minor": 4
}